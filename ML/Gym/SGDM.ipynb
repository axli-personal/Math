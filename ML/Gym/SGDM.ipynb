{
  "nbformat": 4,
  "nbformat_minor": 0,
  "metadata": {
    "colab": {
      "name": "learn.ipynb",
      "provenance": [],
      "collapsed_sections": [],
      "authorship_tag": "ABX9TyO3N19HMs12HPHctljt8wta",
      "include_colab_link": true
    },
    "kernelspec": {
      "name": "python3",
      "display_name": "Python 3"
    },
    "language_info": {
      "name": "python"
    }
  },
  "cells": [
    {
      "cell_type": "markdown",
      "metadata": {
        "id": "view-in-github",
        "colab_type": "text"
      },
      "source": [
        "<a href=\"https://colab.research.google.com/github/axleer/Math/blob/master/ML/Gym/SGDM.ipynb\" target=\"_parent\"><img src=\"https://colab.research.google.com/assets/colab-badge.svg\" alt=\"Open In Colab\"/></a>"
      ]
    },
    {
      "cell_type": "code",
      "metadata": {
        "id": "gBuTgOabD68I"
      },
      "source": [
        "import numpy as np\n",
        "import torch\n",
        "import torch.nn as nn\n",
        "import matplotlib.pyplot as plt"
      ],
      "execution_count": null,
      "outputs": []
    },
    {
      "cell_type": "code",
      "metadata": {
        "id": "vgLYOw6ikv6-"
      },
      "source": [
        "x = torch.tensor(np.arange(1, 11, 0.02), dtype=torch.float).view(500, 1)\n",
        "y = torch.pow(torch.sin(x), 2.0) + torch.cos(x * 2) * 10"
      ],
      "execution_count": null,
      "outputs": []
    },
    {
      "cell_type": "code",
      "metadata": {
        "id": "wfTpyeIutAJO"
      },
      "source": [
        "model = nn.Sequential(\n",
        "    nn.Linear(1, 20),\n",
        "    nn.Tanh(),\n",
        "    nn.Linear(20, 20),\n",
        "    nn.Tanh(),\n",
        "    nn.Linear(20, 1),\n",
        ")\n",
        "\n",
        "# model = nn.Sequential(\n",
        "#     nn.Linear(1, 10),\n",
        "#     nn.Tanh(),\n",
        "#     nn.Linear(10, 10),\n",
        "#     nn.Tanh(),\n",
        "#     nn.Linear(10, 1),\n",
        "# )\n",
        "\n",
        "optim = torch.optim.SGD(model.parameters(), lr=5 * 1e-4, momentum=0.95)\n",
        "mse = nn.MSELoss()\n",
        "\n",
        "error = []\n",
        "\n",
        "for i in range(10000):\n",
        "    predict = model(x)\n",
        "    loss = mse(predict, y)\n",
        "    error.append(loss.item())\n",
        "    optim.zero_grad()\n",
        "    loss.backward()\n",
        "    optim.step()"
      ],
      "execution_count": null,
      "outputs": []
    },
    {
      "cell_type": "code",
      "metadata": {
        "colab": {
          "base_uri": "https://localhost:8080/",
          "height": 265
        },
        "id": "uhHv8ywzwsWY",
        "outputId": "167f1d9c-5aba-4544-da54-8e5da6b52645"
      },
      "source": [
        "%matplotlib inline\n",
        "plt.scatter(np.arange(10000), error, c='green')\n",
        "plt.show()"
      ],
      "execution_count": null,
      "outputs": [
        {
          "output_type": "display_data",
          "data": {
            "image/png": "[encoded data removed]",
            "text/plain": [
              "<Figure size 432x288 with 1 Axes>"
            ]
          },
          "metadata": {
            "needs_background": "light"
          }
        }
      ]
    },
    {
      "cell_type": "code",
      "metadata": {
        "colab": {
          "base_uri": "https://localhost:8080/",
          "height": 265
        },
        "id": "Dbp-GVa4oOvq",
        "outputId": "94cc29ae-a70f-44d0-950f-3e2c8b073e02"
      },
      "source": [
        "%matplotlib inline\n",
        "plt.scatter(x.numpy(), model(x).detach().numpy(), c='red')\n",
        "plt.scatter(x.numpy(), y.numpy(), c='blue')\n",
        "plt.show()"
      ],
      "execution_count": null,
      "outputs": [
        {
          "output_type": "display_data",
          "data": {
            "image/png": "[encoded data removed]",
            "text/plain": [
              "<Figure size 432x288 with 1 Axes>"
            ]
          },
          "metadata": {
            "needs_background": "light"
          }
        }
      ]
    }
  ]
}