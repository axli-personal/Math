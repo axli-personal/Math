{
  "nbformat": 4,
  "nbformat_minor": 0,
  "metadata": {
    "colab": {
      "name": "learn.ipynb",
      "provenance": [],
      "collapsed_sections": [],
      "authorship_tag": "ABX9TyN57WVCJpBqWloufcFZNFPi",
      "include_colab_link": true
    },
    "kernelspec": {
      "name": "python3",
      "display_name": "Python 3"
    },
    "language_info": {
      "name": "python"
    }
  },
  "cells": [
    {
      "cell_type": "markdown",
      "metadata": {
        "id": "view-in-github",
        "colab_type": "text"
      },
      "source": [
        "<a href=\"https://colab.research.google.com/github/axleer/Math/blob/master/ML/Gym/GDM.ipynb\" target=\"_parent\"><img src=\"https://colab.research.google.com/assets/colab-badge.svg\" alt=\"Open In Colab\"/></a>"
      ]
    },
    {
      "cell_type": "markdown",
      "metadata": {
        "id": "LHKaaFX2Am4K"
      },
      "source": [
        "## Goal\n",
        "\n",
        "Training a complex sin and cos function.\n",
        "\n",
        "It looks like: $y = \\sin^2(x) + cos(x)$\n"
      ]
    },
    {
      "cell_type": "code",
      "metadata": {
        "id": "gBuTgOabD68I"
      },
      "source": [
        "import numpy as np\n",
        "import torch\n",
        "import torch.nn as nn\n",
        "import matplotlib.pyplot as plt"
      ],
      "execution_count": 222,
      "outputs": []
    },
    {
      "cell_type": "markdown",
      "metadata": {
        "id": "9WBi_rSbCNtt"
      },
      "source": [
        "## Data\n",
        "\n",
        "You will get 500 nums in [0, 10] as input and its targets.\n",
        "\n",
        "In this step, I enlarge its targets ten times."
      ]
    },
    {
      "cell_type": "code",
      "metadata": {
        "id": "vgLYOw6ikv6-"
      },
      "source": [
        "x = torch.tensor(np.arange(0, 10, 0.02), dtype=torch.float).view(500, 1)\n",
        "y = (torch.pow(torch.sin(x), 2.0) + torch.cos(x * 2)) * 10"
      ],
      "execution_count": 223,
      "outputs": []
    },
    {
      "cell_type": "markdown",
      "metadata": {
        "id": "1NSWLlh_Gve5"
      },
      "source": [
        "## Model\n",
        "\n",
        "I choose the `Tanh` as the activation function in the two hidden layers.\n",
        "\n",
        "And use a GDM optimizer with slow lr and high momentum to train my model."
      ]
    },
    {
      "cell_type": "code",
      "metadata": {
        "id": "wfTpyeIutAJO"
      },
      "source": [
        "model = nn.Sequential(\n",
        "    nn.Linear(1, 20),\n",
        "    nn.Tanh(),\n",
        "    nn.Linear(20, 20),\n",
        "    nn.Tanh(),\n",
        "    nn.Linear(20, 1),\n",
        ")\n",
        "\n",
        "optim = torch.optim.SGD(model.parameters(), lr=5 * 1e-4, momentum=0.95)\n",
        "mse = nn.MSELoss()"
      ],
      "execution_count": 224,
      "outputs": []
    },
    {
      "cell_type": "markdown",
      "metadata": {
        "id": "U3WqtWIDIl_X"
      },
      "source": [
        "## Result\n",
        "\n",
        "You see with about 5000 times optimizations the model preform fairly well.\n",
        "\n",
        "I haven't see other strategy to let it preform better."
      ]
    },
    {
      "cell_type": "code",
      "metadata": {
        "id": "H2SI2pmyD6MK"
      },
      "source": [
        "error = []\n",
        "\n",
        "for i in range(5000):\n",
        "    predict = model(x)\n",
        "    loss = mse(predict, y)\n",
        "    error.append(loss.item())\n",
        "    optim.zero_grad()\n",
        "    loss.backward()\n",
        "    optim.step()"
      ],
      "execution_count": 225,
      "outputs": []
    },
    {
      "cell_type": "code",
      "metadata": {
        "colab": {
          "base_uri": "https://localhost:8080/",
          "height": 513
        },
        "id": "uhHv8ywzwsWY",
        "outputId": "614a19df-0c1a-4954-dbfa-4e97445bcec7"
      },
      "source": [
        "%matplotlib inline\n",
        "plt.scatter(np.arange(5000), error, c='green')\n",
        "plt.show()\n",
        "plt.scatter(x.numpy(), model(x).detach().numpy(), c='red')\n",
        "plt.scatter(x.numpy(), y.numpy(), c='blue')\n",
        "plt.show()"
      ],
      "execution_count": 228,
      "outputs": [
        {
          "output_type": "display_data",
          "data": {
            "image/png": "[encoded data removed]",
            "text/plain": [
              "<Figure size 432x288 with 1 Axes>"
            ]
          },
          "metadata": {
            "needs_background": "light"
          }
        },
        {
          "output_type": "display_data",
          "data": {
            "image/png": "[encoded data removed]",
            "text/plain": [
              "<Figure size 432x288 with 1 Axes>"
            ]
          },
          "metadata": {
            "needs_background": "light"
          }
        }
      ]
    }
  ]
}